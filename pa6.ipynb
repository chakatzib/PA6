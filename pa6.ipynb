{
 "cells": [
  {
   "cell_type": "markdown",
   "id": "9f54ca04",
   "metadata": {},
   "source": [
    "# PA6, CS150 SPRING 2023\n",
    "## Joey Guthrie, version 1"
   ]
  },
  {
   "cell_type": "code",
   "execution_count": 22,
   "id": "7da994b0",
   "metadata": {},
   "outputs": [
    {
     "name": "stdout",
     "output_type": "stream",
     "text": [
      "enter a length of side 1 of triangle0\n",
      "enter a length of side 2 of triangle0\n",
      "enter a length of side 3 of triangle0\n",
      "the perimeter is 3\n",
      "the area is 0.4330127018922193\n"
     ]
    }
   ],
   "source": [
    "#triangle calculator\n",
    "import math\n",
    "side1=int(input(\"enter a length of side 1 of triangle\"))\n",
    "side2=int(input(\"enter a length of side 2 of triangle\"))\n",
    "side3=int(input(\"enter a length of side 3 of triangle\"))\n",
    "    \n",
    "    \n",
    "def calcArea(side1,side2,side3):\n",
    "    if side1==0:\n",
    "        side1=1\n",
    "    if side2==0:\n",
    "        side2=1\n",
    "    if side3==0:\n",
    "        side3=1\n",
    "    S=(side1+side2+side3)/2\n",
    "    area=math.sqrt(S*(S-side1)*(S-side2)*(S-side3))\n",
    "    return area\n",
    "    \n",
    "\n",
    "    \n",
    "def calcPerimeter(side1,side2,side3):\n",
    "    if side1==0:\n",
    "        side1=1\n",
    "    if side2==0:\n",
    "        side2=1\n",
    "    if side3==0:\n",
    "        side3=1\n",
    "    perimeter=side1+side2+side3\n",
    "\n",
    "    return perimeter\n",
    "    \n",
    "    \n",
    "    \n",
    "print(f\"the perimeter is {calcPerimeter(side1,side2,side3)}\")\n",
    "\n",
    "print(f\"the area is {calcArea(side1,side2,side3)}\")"
   ]
  },
  {
   "cell_type": "code",
   "execution_count": 9,
   "id": "4eaebce9",
   "metadata": {},
   "outputs": [
    {
     "name": "stdout",
     "output_type": "stream",
     "text": [
      "370\n",
      "Enter a number between 1 and 1000.3\n",
      "3 is too small.\n",
      "Enter a number between 1 and 1000.307\n",
      "307 is too small.\n",
      "Enter a number between 1 and 1000.380\n",
      "380 is too big.\n",
      "Enter a number between 1 and 1000.370\n",
      "370 is the correct number!\n"
     ]
    }
   ],
   "source": [
    "#guessing game\n",
    "import random\n",
    "chosenNumber=random.randint(1,1000)\n",
    "guessedNumber=None\n",
    "#print(chosenNumber)\n",
    "def evaluate_Guess(chosenNumber,guessedNumber):\n",
    "    if guessedNumber==chosenNumber:\n",
    "        return False\n",
    "    elif guessedNumber>chosenNumber:\n",
    "        print(f\"{guessedNumber} is too big.\")\n",
    "    else:\n",
    "        print(f\"{guessedNumber} is too small.\")\n",
    "while chosenNumber!=guessedNumber:\n",
    "    guessedNumber=int(input(\"Enter a number between 1 and 1000.\"))\n",
    "    evaluate_Guess(chosenNumber,guessedNumber)\n",
    "    if False:\n",
    "        break\n",
    "print(f\"{guessedNumber} is the correct number!\")\n"
   ]
  },
  {
   "cell_type": "code",
   "execution_count": 13,
   "id": "d2c2727d",
   "metadata": {},
   "outputs": [
    {
     "data": {
      "text/plain": [
       "'The average temperature over the past 6 days is 3.5 degrees fahrenheit'"
      ]
     },
     "execution_count": 13,
     "metadata": {},
     "output_type": "execute_result"
    }
   ],
   "source": [
    "#mean temperature\n",
    "# PUT A SET OF FAHRENHEIT TEMPERATURE VALUES INTO THE PARENTHESES WHEN CALLING THIS FUNCTION\n",
    "def meanTemp(*Temperatures):\n",
    "    x=len(Temperatures)\n",
    "    y=sum(Temperatures)\n",
    "    z=y/x\n",
    "    return(f\"The average temperature over the past {x} days is {z} degrees fahrenheit\")\n",
    "\n",
    "meanTemp(1,2,3,4,5,6)"
   ]
  },
  {
   "cell_type": "code",
   "execution_count": null,
   "id": "6d0c8e4c",
   "metadata": {},
   "outputs": [],
   "source": []
  }
 ],
 "metadata": {
  "kernelspec": {
   "display_name": "Python 3 (ipykernel)",
   "language": "python",
   "name": "python3"
  },
  "language_info": {
   "codemirror_mode": {
    "name": "ipython",
    "version": 3
   },
   "file_extension": ".py",
   "mimetype": "text/x-python",
   "name": "python",
   "nbconvert_exporter": "python",
   "pygments_lexer": "ipython3",
   "version": "3.9.13"
  }
 },
 "nbformat": 4,
 "nbformat_minor": 5
}
